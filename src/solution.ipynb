{
 "metadata": {
  "language_info": {
   "codemirror_mode": {
    "name": "ipython",
    "version": 3
   },
   "file_extension": ".py",
   "mimetype": "text/x-python",
   "name": "python",
   "nbconvert_exporter": "python",
   "pygments_lexer": "ipython3",
   "version": "3.8.5-final"
  },
  "orig_nbformat": 2,
  "kernelspec": {
   "name": "python_defaultSpec_1600408301552",
   "display_name": "Python 3.8.5 64-bit"
  }
 },
 "nbformat": 4,
 "nbformat_minor": 2,
 "cells": [
  {
   "source": [
    "## 汽油辛烷值优化建模\n",
    "\n",
    "以下解题过程中：\n",
    "+ 参数定义\n",
    "    - 《附件一：325个样本数据.xlsx》以符号 $\\displaystyle{\\mathcal{X}}_{s}$ 表示\n",
    "    - 《附件三：285号和313号样本原始数据.xlsx》以符号 $\\displaystyle{\\mathcal{X}}_{r}$ 表示"
   ],
   "cell_type": "markdown",
   "metadata": {}
  },
  {
   "source": [
    "sample_data = \"../附件一：325个样本数据.xlsx\"\n",
    "raw_data = \"../附件三：285号和313号样本原始数据.xlsx\"\n",
    "adjust_data = \"../附件四：354个操作变量信息.xlsx\""
   ],
   "cell_type": "code",
   "metadata": {
    "tags": []
   },
   "execution_count": 1,
   "outputs": []
  },
  {
   "source": [
    "### 问题一：\n",
    "\n",
    "数据处理：请参考近4年的工业数据(见附件一“325个数据样本数据.xlsx”)的预处理结果，依“样本确定方法”（附件二）对285号和313号数据样本进行预处理（原始数据见附件三“285号和313号样本原始数据.xlsx”）并将处理后的数据分别加入到附件一中相应的样本号中，供下面研究使用。\n",
    "\n",
    "即 数据预处理 ====> 补全数据&修正数据\n",
    "\n",
    "解题思路：\n",
    "\n",
    "+ 认真阅读《附件二：样本确定方法.docx》\n",
    "+ 补全数据：\n",
    "    - 即需要先确认 样本数据集 $\\displaystyle{\\mathcal{X}}_{s}$ 中 285号 $x_{s}^{(285)}$ 和 313号 $x_{s}^{(313)}$ 存在属性值缺失的属性集合 $\\displaystyle{\\mathcal{D}}_{loss}$\n",
    "    - 将缺失的属性集合 $\\displaystyle{\\mathcal{D}}_{loss}$ 中的缺失的属性值从原始数据集中以求取均值 mean($\\displaystyle{\\mathcal{V}_{r}}$) 的方式确定\n",
    "+ 修正数据：\n",
    "    - 即需要先确认 原始数据集 $\\displaystyle{\\mathcal{X}}_{r}$ 中 285号 $x_{s}^{(285)}$ 和 313号 $x_{s}^{(313)}$ 样本中各属性的属性值缺失情况，对于缺失情况较大的属性则不对 样本数据集 中的属性值进行修正\n",
    "    - 将 285号 $x_{s}^{(285)}$ 和 313号 $x_{s}^{(313)}$ 样本中需要修正的属性采用 变异系数 来判断是否存在奇异值，如果存在，则进行去除奇异值的操作，然后使用最大最小限幅的方式剔除一些不在范围内的样本，并最终将 变异系数 修正到合适的阈值，然后进行求取均值的操作\n",
    "\n",
    "代码逻辑：\n",
    "\n",
    "+ 首先从 样本数据集 $\\displaystyle{\\mathcal{X}}_{sample}$ 中确定样本 285号 $x_{sample}^{(285)}$ 和 313号 $x_{sample}^{(313)}$ 缺失的属性 $\\displaystyle{\\mathcal{D}}_{loss}$\n",
    "+ 然后对缺失的属性 $d_{loss} \\in \\displaystyle{\\mathcal{D}}_{loss}$ 对应到 原始数据集 $\\displaystyle{\\mathcal{X}}_{raw}$ 中，逐一对每个缺失的属性值进行判别\n",
    "    - 这里使用 $\\frac{\\displaystyle{\\mathbb{I}}(v_{loss}^{(i)} \\ne 0|d_{loss}^{(i)})}{\\displaystyle{\\mathbb{I}}(v_{loss}^{(i)} |d_{loss}^{(i)})}$ 对当前 缺失的属性 $d_{loss}$ 在 原始数据集 $\\displaystyle{\\mathcal{X}}_{raw}$ 中数据采集的状况进行评估\n",
    "        + 当比值 $ \\ge \\frac{3}{4} $ 时，对当前 缺失的属性的值 $d_{loss}$ 进行求均值 $v_{mean}^{(d_{loss})}$ 处理；\n",
    "        + 当比值 $ < \\frac{3}{4} $ 时，对当前 缺失的属性 $d_{loss}$ 进行直接忽略处理；\n",
    "+ 对样本 $x_{sample}^{(i)}$ 进行 缺失的属性 $d_{loss}$ 求均值之前需进行异常值处理\n",
    "    - 根据拉依达准则（3$\\sigma$准则）去除异常值，得到 缺失的属性 $d_{loss}$ 对应的过滤后的 原始属性值集合 $\\displaystyle{\\mathcal{V}}_{filter}^{d_{loss}}$\n",
    "    - 将处理后的 原始属性值集合 $\\displaystyle{\\mathcal{V}}_{filter}^{d_{loss}}$ 中的属性值进行求 均值 $\\displaystyle{\\mathcal{V}}_{filter_{mean}}^{d_{loss}}$ 操作加入到 $\\displaystyle{\\mathcal{X}}_{sample}$ 中对应的 样本数据 $x_{sample}^{(i)}$ 对应的 缺失的属性 $d_{loss}$ 中"
   ],
   "cell_type": "markdown",
   "metadata": {}
  },
  {
   "cell_type": "code",
   "execution_count": 2,
   "metadata": {},
   "outputs": [],
   "source": [
    "import numpy as np\n",
    "import pandas as pd\n",
    "from scipy import stats"
   ]
  },
  {
   "cell_type": "code",
   "execution_count": 3,
   "metadata": {
    "tags": []
   },
   "outputs": [],
   "source": [
    "raws = pd.read_excel(io=raw_data, sheet_name=\"操作变量\", header=[0, 1], skiprows=[0])\n",
    "samples = pd.read_excel(io=sample_data, header=[0, 1], skiprows=[0])\n",
    "\n",
    "# 查看 原始数据情况\n",
    "# raws \n",
    "# 查看 样本数据情况\n",
    "# samples"
   ]
  },
  {
   "cell_type": "code",
   "execution_count": 4,
   "metadata": {},
   "outputs": [],
   "source": [
    "# No.285 样本\n",
    "sample_285 = samples.iloc[284]\n",
    "sample_285 = sample_285.drop(index=sample_285.index[[x for x in range(1, 16)]], axis=1)\n",
    "# No.313 样本\n",
    "sample_313 = samples.iloc[312]\n",
    "sample_313 = sample_313.drop(index=sample_285.index[[x for x in range(1, 16)]], axis=1)\n",
    "\n",
    "# 查看 No.285 数据情况\n",
    "# sample_285\n",
    "# 查看 No.313 数据情况\n",
    "# sample_313"
   ]
  },
  {
   "cell_type": "code",
   "execution_count": 5,
   "metadata": {
    "tags": []
   },
   "outputs": [],
   "source": [
    "def find_dummy_colmuns(sample):\n",
    "    dummy_columns = []\n",
    "    for (code_name, i18n_name) in sample.keys():\n",
    "        if not sample[(code_name, i18n_name)]:\n",
    "            # 查看 样本属性值 为 0 的列名\n",
    "            # print(f\"{'='*10}{i18n_name}{'='*10}\")\n",
    "            # print(f\"{code_name}: => {sample[(code_name, i18n_name)]}\")\n",
    "            # print(f\"{'='*35}\")\n",
    "            dummy_columns.append(code_name)\n",
    "    return dummy_columns"
   ]
  },
  {
   "cell_type": "code",
   "execution_count": 6,
   "metadata": {
    "tags": []
   },
   "outputs": [
    {
     "output_type": "stream",
     "name": "stdout",
     "text": "No.285 属性值为空的列: ['S-ZORB.FT_1501.PV', 'S-ZORB.FT_1002.PV', 'S-ZORB.FC_1202.PV', 'S-ZORB.FT_1501.TOTAL', 'S-ZORB.FT_5102.PV', 'S-ZORB.FT_2901.DACA', 'S-ZORB.FC_1104.DACA', 'S-ZORB.FT_2803.DACA', 'S-ZORB.FT_1502.DACA', 'S-ZORB.TEX_3103A.DACA', 'S-ZORB.FT_5102.DACA.PV']\nNo.313 属性值为空的列: ['S-ZORB.FT_1501.PV', 'S-ZORB.FT_1002.PV', 'S-ZORB.FT_1501.TOTAL', 'S-ZORB.FT_2901.DACA', 'S-ZORB.FC_1104.DACA', 'S-ZORB.FT_2803.DACA', 'S-ZORB.FT_1502.DACA', 'S-ZORB.TEX_3103A.DACA']\n"
    }
   ],
   "source": [
    "sample_285_dummy_columns = find_dummy_colmuns(sample_285)\n",
    "sample_313_dummy_columns = find_dummy_colmuns(sample_313)\n",
    "\n",
    "# 查看 No.285 属性值为空的情况\n",
    "print(f\"No.285 属性值为空的列: {sample_285_dummy_columns}\")\n",
    "# 查看 No.313 属性值为空的情况\n",
    "print(f\"No.313 属性值为空的列: {sample_313_dummy_columns}\")"
   ]
  },
  {
   "cell_type": "code",
   "execution_count": 7,
   "metadata": {
    "tags": []
   },
   "outputs": [
    {
     "output_type": "stream",
     "name": "stdout",
     "text": "拆分出来的285号样本的原始数据\n"
    },
    {
     "output_type": "execute_result",
     "data": {
      "text/plain": "  S-ZORB.FT_1501.PV S-ZORB.FT_1002.PV S-ZORB.FC_1202.PV S-ZORB.FT_1501.TOTAL  \\\n            新氢进装置流量       1#催化汽油进装置流量       D121顶去放火炬流量              新氢进装置流量   \n0               0.0               0.0               0.0                  0.0   \n1               0.0               0.0               0.0                  0.0   \n2               0.0               0.0               0.0                  0.0   \n3               0.0               0.0               0.0                  0.0   \n4               0.0               0.0               0.0                  0.0   \n\n     S-ZORB.FT_5102.PV S-ZORB.FT_2901.DACA S-ZORB.FC_1104.DACA  \\\n  Unnamed: 110_level_1          D-109松动风流量           进料调节阀旁路流量   \n0                  0.0                 0.0                 0.0   \n1                  0.0                 0.0                 0.0   \n2                  0.0                 0.0                 0.0   \n3                  0.0                 0.0                 0.0   \n4                  0.0                 0.0                 0.0   \n\n  S-ZORB.FT_2803.DACA S-ZORB.FT_1502.DACA S-ZORB.TEX_3103A.DACA  \\\n         紧急氢气去D-102流量       补充氢压缩机出口返回管流量       EH-102加热元件/A束温度   \n0                 0.0                 0.0                   0.0   \n1                 0.0                 0.0                   0.0   \n2                 0.0                 0.0                   0.0   \n3                 0.0                 0.0                   0.0   \n4                 0.0                 0.0                   0.0   \n\n  S-ZORB.FT_5102.DACA.PV  \n             D-201含硫污水排量  \n0                    0.0  \n1                    0.0  \n2                    0.0  \n3                    0.0  \n4                    0.0  ",
      "text/html": "<div>\n<style scoped>\n    .dataframe tbody tr th:only-of-type {\n        vertical-align: middle;\n    }\n\n    .dataframe tbody tr th {\n        vertical-align: top;\n    }\n\n    .dataframe thead tr th {\n        text-align: left;\n    }\n</style>\n<table border=\"1\" class=\"dataframe\">\n  <thead>\n    <tr>\n      <th></th>\n      <th>S-ZORB.FT_1501.PV</th>\n      <th>S-ZORB.FT_1002.PV</th>\n      <th>S-ZORB.FC_1202.PV</th>\n      <th>S-ZORB.FT_1501.TOTAL</th>\n      <th>S-ZORB.FT_5102.PV</th>\n      <th>S-ZORB.FT_2901.DACA</th>\n      <th>S-ZORB.FC_1104.DACA</th>\n      <th>S-ZORB.FT_2803.DACA</th>\n      <th>S-ZORB.FT_1502.DACA</th>\n      <th>S-ZORB.TEX_3103A.DACA</th>\n      <th>S-ZORB.FT_5102.DACA.PV</th>\n    </tr>\n    <tr>\n      <th></th>\n      <th>新氢进装置流量</th>\n      <th>1#催化汽油进装置流量</th>\n      <th>D121顶去放火炬流量</th>\n      <th>新氢进装置流量</th>\n      <th>Unnamed: 110_level_1</th>\n      <th>D-109松动风流量</th>\n      <th>进料调节阀旁路流量</th>\n      <th>紧急氢气去D-102流量</th>\n      <th>补充氢压缩机出口返回管流量</th>\n      <th>EH-102加热元件/A束温度</th>\n      <th>D-201含硫污水排量</th>\n    </tr>\n  </thead>\n  <tbody>\n    <tr>\n      <th>0</th>\n      <td>0.0</td>\n      <td>0.0</td>\n      <td>0.0</td>\n      <td>0.0</td>\n      <td>0.0</td>\n      <td>0.0</td>\n      <td>0.0</td>\n      <td>0.0</td>\n      <td>0.0</td>\n      <td>0.0</td>\n      <td>0.0</td>\n    </tr>\n    <tr>\n      <th>1</th>\n      <td>0.0</td>\n      <td>0.0</td>\n      <td>0.0</td>\n      <td>0.0</td>\n      <td>0.0</td>\n      <td>0.0</td>\n      <td>0.0</td>\n      <td>0.0</td>\n      <td>0.0</td>\n      <td>0.0</td>\n      <td>0.0</td>\n    </tr>\n    <tr>\n      <th>2</th>\n      <td>0.0</td>\n      <td>0.0</td>\n      <td>0.0</td>\n      <td>0.0</td>\n      <td>0.0</td>\n      <td>0.0</td>\n      <td>0.0</td>\n      <td>0.0</td>\n      <td>0.0</td>\n      <td>0.0</td>\n      <td>0.0</td>\n    </tr>\n    <tr>\n      <th>3</th>\n      <td>0.0</td>\n      <td>0.0</td>\n      <td>0.0</td>\n      <td>0.0</td>\n      <td>0.0</td>\n      <td>0.0</td>\n      <td>0.0</td>\n      <td>0.0</td>\n      <td>0.0</td>\n      <td>0.0</td>\n      <td>0.0</td>\n    </tr>\n    <tr>\n      <th>4</th>\n      <td>0.0</td>\n      <td>0.0</td>\n      <td>0.0</td>\n      <td>0.0</td>\n      <td>0.0</td>\n      <td>0.0</td>\n      <td>0.0</td>\n      <td>0.0</td>\n      <td>0.0</td>\n      <td>0.0</td>\n      <td>0.0</td>\n    </tr>\n  </tbody>\n</table>\n</div>"
     },
     "metadata": {},
     "execution_count": 7
    }
   ],
   "source": [
    "# 拆分原始数据中285号样本的数据\n",
    "print(\"拆分出来的285号样本的原始数据\")\n",
    "raw_285 = raws.iloc[:40]\n",
    "raw_285[sample_285_dummy_columns].head(n=5)"
   ]
  },
  {
   "cell_type": "code",
   "execution_count": 8,
   "metadata": {
    "tags": []
   },
   "outputs": [
    {
     "output_type": "stream",
     "name": "stdout",
     "text": "拆分出来的313号样本的原始数据\n"
    },
    {
     "output_type": "execute_result",
     "data": {
      "text/plain": "   S-ZORB.FT_1501.PV S-ZORB.FT_1002.PV S-ZORB.FT_1501.TOTAL  \\\n             新氢进装置流量       1#催化汽油进装置流量              新氢进装置流量   \n41               0.0               0.0                  0.0   \n42               0.0               0.0                  0.0   \n43               0.0               0.0                  0.0   \n44               0.0               0.0                  0.0   \n45               0.0               0.0                  0.0   \n\n   S-ZORB.FT_2901.DACA S-ZORB.FC_1104.DACA S-ZORB.FT_2803.DACA  \\\n            D-109松动风流量           进料调节阀旁路流量        紧急氢气去D-102流量   \n41                 0.0                 0.0                 0.0   \n42                 0.0                 0.0                 0.0   \n43                 0.0                 0.0                 0.0   \n44                 0.0                 0.0                 0.0   \n45                 0.0                 0.0                 0.0   \n\n   S-ZORB.FT_1502.DACA S-ZORB.TEX_3103A.DACA  \n         补充氢压缩机出口返回管流量       EH-102加热元件/A束温度  \n41                 0.0                   0.0  \n42                 0.0                   0.0  \n43                 0.0                   0.0  \n44                 0.0                   0.0  \n45                 0.0                   0.0  ",
      "text/html": "<div>\n<style scoped>\n    .dataframe tbody tr th:only-of-type {\n        vertical-align: middle;\n    }\n\n    .dataframe tbody tr th {\n        vertical-align: top;\n    }\n\n    .dataframe thead tr th {\n        text-align: left;\n    }\n</style>\n<table border=\"1\" class=\"dataframe\">\n  <thead>\n    <tr>\n      <th></th>\n      <th>S-ZORB.FT_1501.PV</th>\n      <th>S-ZORB.FT_1002.PV</th>\n      <th>S-ZORB.FT_1501.TOTAL</th>\n      <th>S-ZORB.FT_2901.DACA</th>\n      <th>S-ZORB.FC_1104.DACA</th>\n      <th>S-ZORB.FT_2803.DACA</th>\n      <th>S-ZORB.FT_1502.DACA</th>\n      <th>S-ZORB.TEX_3103A.DACA</th>\n    </tr>\n    <tr>\n      <th></th>\n      <th>新氢进装置流量</th>\n      <th>1#催化汽油进装置流量</th>\n      <th>新氢进装置流量</th>\n      <th>D-109松动风流量</th>\n      <th>进料调节阀旁路流量</th>\n      <th>紧急氢气去D-102流量</th>\n      <th>补充氢压缩机出口返回管流量</th>\n      <th>EH-102加热元件/A束温度</th>\n    </tr>\n  </thead>\n  <tbody>\n    <tr>\n      <th>41</th>\n      <td>0.0</td>\n      <td>0.0</td>\n      <td>0.0</td>\n      <td>0.0</td>\n      <td>0.0</td>\n      <td>0.0</td>\n      <td>0.0</td>\n      <td>0.0</td>\n    </tr>\n    <tr>\n      <th>42</th>\n      <td>0.0</td>\n      <td>0.0</td>\n      <td>0.0</td>\n      <td>0.0</td>\n      <td>0.0</td>\n      <td>0.0</td>\n      <td>0.0</td>\n      <td>0.0</td>\n    </tr>\n    <tr>\n      <th>43</th>\n      <td>0.0</td>\n      <td>0.0</td>\n      <td>0.0</td>\n      <td>0.0</td>\n      <td>0.0</td>\n      <td>0.0</td>\n      <td>0.0</td>\n      <td>0.0</td>\n    </tr>\n    <tr>\n      <th>44</th>\n      <td>0.0</td>\n      <td>0.0</td>\n      <td>0.0</td>\n      <td>0.0</td>\n      <td>0.0</td>\n      <td>0.0</td>\n      <td>0.0</td>\n      <td>0.0</td>\n    </tr>\n    <tr>\n      <th>45</th>\n      <td>0.0</td>\n      <td>0.0</td>\n      <td>0.0</td>\n      <td>0.0</td>\n      <td>0.0</td>\n      <td>0.0</td>\n      <td>0.0</td>\n      <td>0.0</td>\n    </tr>\n  </tbody>\n</table>\n</div>"
     },
     "metadata": {},
     "execution_count": 8
    }
   ],
   "source": [
    "# 拆分原始数据中313号样本的数据\n",
    "print(\"拆分出来的313号样本的原始数据\")\n",
    "raw_313 = raws.iloc[41:]\n",
    "raw_313[sample_313_dummy_columns].head(n=5)"
   ]
  },
  {
   "source": [
    "至此对于原始数据中的 补全数据操作 完成，可惜的是从结果看起来上面所罗列的原始数据并没有对285号和313号样本的缺失的属性值有所帮助\n",
    "\n",
    "接下来将以原始数据集展开对样本数据集中285号和313号样本的属性值进行修正操作，值得庆幸的是，这一步可以省略上面已经验证的无法补全的一些缺失属性"
   ],
   "cell_type": "markdown",
   "metadata": {}
  },
  {
   "cell_type": "code",
   "execution_count": 9,
   "metadata": {
    "tags": []
   },
   "outputs": [
    {
     "output_type": "stream",
     "name": "stdout",
     "text": "[]\n"
    }
   ],
   "source": [
    "# 统计 No.285 样本 中属性中属性值存在空值的属性\n",
    "raw_285 = raw_285.drop(raw_285[sample_285_dummy_columns], axis=1)\n",
    "raw_285_nonzeroratio = raw_285.astype(bool).sum(axis=0) / 40\n",
    "raw_285_dummy_columns = []\n",
    "for (code_name, i18n_name) in raw_285_nonzeroratio.keys():\n",
    "    if raw_285_nonzeroratio[(code_name, i18n_name)] != 1.0:\n",
    "        raw_285_dummy_columns.append(code_name)\n",
    "print(raw_285_dummy_columns)"
   ]
  },
  {
   "cell_type": "code",
   "execution_count": 10,
   "metadata": {
    "tags": []
   },
   "outputs": [
    {
     "output_type": "stream",
     "name": "stdout",
     "text": "['S-ZORB.FT_1204.PV', 'S-ZORB.FC_2432.DACA', 'S-ZORB.FT_2431.DACA', 'S-ZORB.FC_2432.PIDA.SP', 'S-ZORB.FT_1204.DACA.PV']\n"
    }
   ],
   "source": [
    "# 统计 No.313 样本 中属性中属性值存在空值的属性\n",
    "raw_313 = raw_313.drop(raw_313[sample_313_dummy_columns], axis=1)\n",
    "raw_313_nonzeroratio = raw_313.astype(bool).sum(axis=0) / 40\n",
    "raw_313_dummy_columns = []\n",
    "for (code_name, i18n_name) in raw_313_nonzeroratio.keys():\n",
    "    if raw_313_nonzeroratio[(code_name, i18n_name)] != 1.0:\n",
    "        raw_313_dummy_columns.append(code_name)\n",
    "print(raw_313_dummy_columns)"
   ]
  },
  {
   "cell_type": "code",
   "execution_count": 11,
   "metadata": {},
   "outputs": [
    {
     "output_type": "execute_result",
     "data": {
      "text/plain": "<AxesSubplot:>"
     },
     "metadata": {},
     "execution_count": 11
    },
    {
     "output_type": "display_data",
     "data": {
      "text/plain": "<Figure size 1800x720 with 2 Axes>",
      "image/svg+xml": "<?xml version=\"1.0\" encoding=\"utf-8\" standalone=\"no\"?>\n<!DOCTYPE svg PUBLIC \"-//W3C//DTD SVG 1.1//EN\"\n  \"http://www.w3.org/Graphics/SVG/1.1/DTD/svg11.dtd\">\n<!-- Created with matplotlib (https://matplotlib.org/) -->\n<svg height=\"563.76625pt\" version=\"1.1\" viewBox=\"0 0 1450.7575 563.76625\" width=\"1450.7575pt\" xmlns=\"http://www.w3.org/2000/svg\" xmlns:xlink=\"http://www.w3.org/1999/xlink\">\n <metadata>\n  <rdf:RDF xmlns:cc=\"http://creativecommons.org/ns#\" xmlns:dc=\"http://purl.org/dc/elements/1.1/\" xmlns:rdf=\"http://www.w3.org/1999/02/22-rdf-syntax-ns#\">\n   <cc:Work>\n    <dc:type rdf:resource=\"http://purl.org/dc/dcmitype/StillImage\"/>\n    <dc:date>2020-09-19T08:21:43.920457</dc:date>\n    <dc:format>image/svg+xml</dc:format>\n    <dc:creator>\n     <cc:Agent>\n      <dc:title>Matplotlib v3.3.2, https://matplotlib.org/</dc:title>\n     </cc:Agent>\n    </dc:creator>\n   </cc:Work>\n  </rdf:RDF>\n </metadata>\n <defs>\n  <style type=\"text/css\">*{stroke-linecap:butt;stroke-linejoin:round;}</style>\n </defs>\n <g id=\"figure_1\">\n  <g id=\"patch_1\">\n   <path d=\"M 0 563.76625 \nL 1450.7575 563.76625 \nL 1450.7575 0 \nL 0 0 \nz\n\" style=\"fill:none;\"/>\n  </g>\n  <g id=\"axes_1\">\n   <g id=\"patch_2\">\n    <path d=\"M 1350.815865 551.603437 \nL 1434.65 551.603437 \nL 1434.65 8.003437 \nL 1350.815865 8.003437 \nz\n\" style=\"fill:#ffffff;\"/>\n   </g>\n   <g id=\"matplotlib.axis_1\"/>\n   <g id=\"matplotlib.axis_2\"/>\n   <g id=\"line2d_1\">\n    <path clip-path=\"url(#p2798c33be4)\" d=\"M 1386.74478 551.603437 \nL 1386.74478 537.664976 \nL 1386.74478 523.726514 \nL 1410.69739 509.788053 \nL 1410.69739 495.849591 \nL 1410.69739 481.91113 \nL 1410.69739 467.972668 \nL 1410.69739 454.034207 \nL 1410.69739 440.095745 \nL 1386.74478 426.157284 \nL 1386.74478 412.218822 \nL 1386.74478 398.280361 \nL 1386.74478 384.341899 \nL 1398.721085 370.403437 \nL 1386.74478 356.464976 \nL 1386.74478 342.526514 \nL 1410.69739 328.588053 \nL 1410.69739 314.649591 \nL 1386.74478 300.71113 \nL 1386.74478 286.772668 \nL 1374.768475 272.834207 \nL 1386.74478 258.895745 \nL 1410.69739 244.957284 \nL 1398.721085 231.018822 \nL 1410.69739 217.080361 \nL 1410.69739 203.141899 \nL 1386.74478 189.203437 \nL 1386.74478 175.264976 \nL 1374.768475 161.326514 \nL 1374.768475 147.388053 \nL 1410.69739 133.449591 \nL 1398.721085 119.51113 \nL 1410.69739 105.572668 \nL 1410.69739 91.634207 \nL 1410.69739 77.695745 \nL 1410.69739 63.757284 \nL 1386.74478 49.818822 \nL 1410.69739 35.880361 \nL 1410.69739 21.941899 \nL 1410.69739 8.003437 \n\" style=\"fill:none;stroke:#404040;stroke-linecap:square;stroke-width:1.5;\"/>\n   </g>\n   <g id=\"line2d_2\">\n    <defs>\n     <path d=\"M 0 2.5 \nC 0.663008 2.5 1.29895 2.236584 1.767767 1.767767 \nC 2.236584 1.29895 2.5 0.663008 2.5 0 \nC 2.5 -0.663008 2.236584 -1.29895 1.767767 -1.767767 \nC 1.29895 -2.236584 0.663008 -2.5 0 -2.5 \nC -0.663008 -2.5 -1.29895 -2.236584 -1.767767 -1.767767 \nC -2.236584 -1.29895 -2.5 -0.663008 -2.5 0 \nC -2.5 0.663008 -2.236584 1.29895 -1.767767 1.767767 \nC -1.29895 2.236584 -0.663008 2.5 0 2.5 \nz\n\" id=\"m6494b58f82\" style=\"stroke:#404040;\"/>\n    </defs>\n    <g clip-path=\"url(#p2798c33be4)\">\n     <use style=\"fill:#404040;stroke:#404040;\" x=\"1374.768475\" xlink:href=\"#m6494b58f82\" y=\"272.834207\"/>\n    </g>\n   </g>\n   <g id=\"line2d_3\">\n    <g clip-path=\"url(#p2798c33be4)\">\n     <use style=\"fill:#404040;stroke:#404040;\" x=\"1410.69739\" xlink:href=\"#m6494b58f82\" y=\"509.788053\"/>\n    </g>\n   </g>\n   <g id=\"text_1\">\n    <!-- 5 -->\n    <g transform=\"translate(1434.65 513.651178)scale(0.14 -0.14)\">\n     <defs>\n      <path d=\"M 10.796875 72.90625 \nL 49.515625 72.90625 \nL 49.515625 64.59375 \nL 19.828125 64.59375 \nL 19.828125 46.734375 \nQ 21.96875 47.46875 24.109375 47.828125 \nQ 26.265625 48.1875 28.421875 48.1875 \nQ 40.625 48.1875 47.75 41.5 \nQ 54.890625 34.8125 54.890625 23.390625 \nQ 54.890625 11.625 47.5625 5.09375 \nQ 40.234375 -1.421875 26.90625 -1.421875 \nQ 22.3125 -1.421875 17.546875 -0.640625 \nQ 12.796875 0.140625 7.71875 1.703125 \nL 7.71875 11.625 \nQ 12.109375 9.234375 16.796875 8.0625 \nQ 21.484375 6.890625 26.703125 6.890625 \nQ 35.15625 6.890625 40.078125 11.328125 \nQ 45.015625 15.765625 45.015625 23.390625 \nQ 45.015625 31 40.078125 35.4375 \nQ 35.15625 39.890625 26.703125 39.890625 \nQ 22.75 39.890625 18.8125 39.015625 \nQ 14.890625 38.140625 10.796875 36.28125 \nz\n\" id=\"DejaVuSans-53\"/>\n     </defs>\n     <use xlink:href=\"#DejaVuSans-53\"/>\n    </g>\n   </g>\n   <g id=\"text_2\">\n    <!-- 2 -->\n    <g transform=\"translate(1341.908365 276.697332)scale(0.14 -0.14)\">\n     <defs>\n      <path d=\"M 19.1875 8.296875 \nL 53.609375 8.296875 \nL 53.609375 0 \nL 7.328125 0 \nL 7.328125 8.296875 \nQ 12.9375 14.109375 22.625 23.890625 \nQ 32.328125 33.6875 34.8125 36.53125 \nQ 39.546875 41.84375 41.421875 45.53125 \nQ 43.3125 49.21875 43.3125 52.78125 \nQ 43.3125 58.59375 39.234375 62.25 \nQ 35.15625 65.921875 28.609375 65.921875 \nQ 23.96875 65.921875 18.8125 64.3125 \nQ 13.671875 62.703125 7.8125 59.421875 \nL 7.8125 69.390625 \nQ 13.765625 71.78125 18.9375 73 \nQ 24.125 74.21875 28.421875 74.21875 \nQ 39.75 74.21875 46.484375 68.546875 \nQ 53.21875 62.890625 53.21875 53.421875 \nQ 53.21875 48.921875 51.53125 44.890625 \nQ 49.859375 40.875 45.40625 35.40625 \nQ 44.1875 33.984375 37.640625 27.21875 \nQ 31.109375 20.453125 19.1875 8.296875 \nz\n\" id=\"DejaVuSans-50\"/>\n     </defs>\n     <use xlink:href=\"#DejaVuSans-50\"/>\n    </g>\n   </g>\n  </g>\n  <g id=\"axes_2\">\n   <g id=\"patch_3\">\n    <path d=\"M 39.65 551.603437 \nL 1297.162019 551.603437 \nL 1297.162019 8.003437 \nL 39.65 8.003437 \nz\n\" style=\"fill:#ffffff;\"/>\n   </g>\n   <g clip-path=\"url(#p9b0b87899a)\">\n    <image height=\"40\" id=\"imagef6762fcd53\" style=\"image-rendering:crisp-edges;image-rendering:pixelated\" transform=\"matrix(251.6 0 0 13.6 39.65 7.603437)\" width=\"5\" xlink:href=\"data:image/png;base64,\niVBORw0KGgoAAAANSUhEUgAAAAUAAAAoCAYAAAA2XTANAAAAXUlEQVR4nLWRQQrAIAwEVfqv7NP3Z/akhGgSsNWLsJidUauI9GJWs0Eckix6rz90uuGAuKDHngKQdAKI6Qc3Sj23T7cdv+KpAQMYd5KcBk0Hi3xO/yh/K3S/Ix1/AUq2M6v2ZihvAAAAAElFTkSuQmCC\"/>\n   </g>\n   <g id=\"matplotlib.axis_3\"/>\n   <g id=\"matplotlib.axis_4\">\n    <g id=\"ytick_1\">\n     <g id=\"text_3\">\n      <!-- 1 -->\n      <g transform=\"translate(19.925 22.396875)scale(0.2 -0.2)\">\n       <defs>\n        <path d=\"M 12.40625 8.296875 \nL 28.515625 8.296875 \nL 28.515625 63.921875 \nL 10.984375 60.40625 \nL 10.984375 69.390625 \nL 28.421875 72.90625 \nL 38.28125 72.90625 \nL 38.28125 8.296875 \nL 54.390625 8.296875 \nL 54.390625 0 \nL 12.40625 0 \nz\n\" id=\"DejaVuSans-49\"/>\n       </defs>\n       <use xlink:href=\"#DejaVuSans-49\"/>\n      </g>\n     </g>\n    </g>\n    <g id=\"ytick_2\">\n     <g id=\"text_4\">\n      <!-- 40 -->\n      <g transform=\"translate(7.2 552.406875)scale(0.2 -0.2)\">\n       <defs>\n        <path d=\"M 37.796875 64.3125 \nL 12.890625 25.390625 \nL 37.796875 25.390625 \nz\nM 35.203125 72.90625 \nL 47.609375 72.90625 \nL 47.609375 25.390625 \nL 58.015625 25.390625 \nL 58.015625 17.1875 \nL 47.609375 17.1875 \nL 47.609375 0 \nL 37.796875 0 \nL 37.796875 17.1875 \nL 4.890625 17.1875 \nL 4.890625 26.703125 \nz\n\" id=\"DejaVuSans-52\"/>\n        <path d=\"M 31.78125 66.40625 \nQ 24.171875 66.40625 20.328125 58.90625 \nQ 16.5 51.421875 16.5 36.375 \nQ 16.5 21.390625 20.328125 13.890625 \nQ 24.171875 6.390625 31.78125 6.390625 \nQ 39.453125 6.390625 43.28125 13.890625 \nQ 47.125 21.390625 47.125 36.375 \nQ 47.125 51.421875 43.28125 58.90625 \nQ 39.453125 66.40625 31.78125 66.40625 \nz\nM 31.78125 74.21875 \nQ 44.046875 74.21875 50.515625 64.515625 \nQ 56.984375 54.828125 56.984375 36.375 \nQ 56.984375 17.96875 50.515625 8.265625 \nQ 44.046875 -1.421875 31.78125 -1.421875 \nQ 19.53125 -1.421875 13.0625 8.265625 \nQ 6.59375 17.96875 6.59375 36.375 \nQ 6.59375 54.828125 13.0625 64.515625 \nQ 19.53125 74.21875 31.78125 74.21875 \nz\n\" id=\"DejaVuSans-48\"/>\n       </defs>\n       <use xlink:href=\"#DejaVuSans-52\"/>\n       <use x=\"63.623047\" xlink:href=\"#DejaVuSans-48\"/>\n      </g>\n     </g>\n    </g>\n   </g>\n   <g id=\"line2d_4\">\n    <path clip-path=\"url(#p9b0b87899a)\" d=\"M 291.152404 551.603437 \nL 291.152404 8.003437 \n\" style=\"fill:none;stroke:#ffffff;stroke-linecap:square;stroke-width:1.5;\"/>\n   </g>\n   <g id=\"line2d_5\">\n    <path clip-path=\"url(#p9b0b87899a)\" d=\"M 542.654808 551.603437 \nL 542.654808 8.003437 \n\" style=\"fill:none;stroke:#ffffff;stroke-linecap:square;stroke-width:1.5;\"/>\n   </g>\n   <g id=\"line2d_6\">\n    <path clip-path=\"url(#p9b0b87899a)\" d=\"M 794.157212 551.603437 \nL 794.157212 8.003437 \n\" style=\"fill:none;stroke:#ffffff;stroke-linecap:square;stroke-width:1.5;\"/>\n   </g>\n   <g id=\"line2d_7\">\n    <path clip-path=\"url(#p9b0b87899a)\" d=\"M 1045.659615 551.603437 \nL 1045.659615 8.003437 \n\" style=\"fill:none;stroke:#ffffff;stroke-linecap:square;stroke-width:1.5;\"/>\n   </g>\n  </g>\n </g>\n <defs>\n  <clipPath id=\"p2798c33be4\">\n   <rect height=\"543.6\" width=\"83.834135\" x=\"1350.815865\" y=\"8.003437\"/>\n  </clipPath>\n  <clipPath id=\"p9b0b87899a\">\n   <rect height=\"543.6\" width=\"1257.512019\" x=\"39.65\" y=\"8.003437\"/>\n  </clipPath>\n </defs>\n</svg>\n",
      "image/png": "[encoded data removed]"
     },
     "metadata": {
      "needs_background": "light"
     }
    }
   ],
   "source": [
    "# 可视化呈现 No.313 样本 中属性中属性值存在空值的属性的分布\n",
    "import missingno as msno\n",
    "%matplotlib inline\n",
    "msno.matrix(raw_313[raw_313_dummy_columns].replace(0, np.nan), labels=False)"
   ]
  },
  {
   "cell_type": "code",
   "execution_count": 12,
   "metadata": {},
   "outputs": [
    {
     "output_type": "execute_result",
     "data": {
      "text/plain": "         S-ZORB.FT_1204.PV S-ZORB.FC_2432.DACA  S-ZORB.FT_2431.DACA  \\\n      Unnamed: 109_level_1          D-106热氮气流量 Unnamed: 175_level_1   \ncount            38.000000           24.000000            34.000000   \nmean             49.707433           55.025050           255.479771   \nstd               8.341846           25.134146           234.464315   \nmin               6.597014            0.488710             3.981225   \n25%              46.641427           38.959682            90.305070   \n50%              51.932390           68.763040           197.265750   \n75%              53.980428           74.201170           333.157850   \nmax              57.424220           80.166200           937.010600   \n\n      S-ZORB.FC_2432.PIDA.SP S-ZORB.FT_1204.DACA.PV  \n             3.0步骤FIC2432.SP            D-121含硫污水排量  \ncount              24.000000              38.000000  \nmean               55.977408              49.707433  \nstd                25.826184               8.341846  \nmin                 0.177480               6.597014  \n25%                39.000000              46.641427  \n50%                69.000000              51.932390  \n75%                79.000000              53.980428  \nmax                79.000000              57.424220  ",
      "text/html": "<div>\n<style scoped>\n    .dataframe tbody tr th:only-of-type {\n        vertical-align: middle;\n    }\n\n    .dataframe tbody tr th {\n        vertical-align: top;\n    }\n\n    .dataframe thead tr th {\n        text-align: left;\n    }\n</style>\n<table border=\"1\" class=\"dataframe\">\n  <thead>\n    <tr>\n      <th></th>\n      <th>S-ZORB.FT_1204.PV</th>\n      <th>S-ZORB.FC_2432.DACA</th>\n      <th>S-ZORB.FT_2431.DACA</th>\n      <th>S-ZORB.FC_2432.PIDA.SP</th>\n      <th>S-ZORB.FT_1204.DACA.PV</th>\n    </tr>\n    <tr>\n      <th></th>\n      <th>Unnamed: 109_level_1</th>\n      <th>D-106热氮气流量</th>\n      <th>Unnamed: 175_level_1</th>\n      <th>3.0步骤FIC2432.SP</th>\n      <th>D-121含硫污水排量</th>\n    </tr>\n  </thead>\n  <tbody>\n    <tr>\n      <th>count</th>\n      <td>38.000000</td>\n      <td>24.000000</td>\n      <td>34.000000</td>\n      <td>24.000000</td>\n      <td>38.000000</td>\n    </tr>\n    <tr>\n      <th>mean</th>\n      <td>49.707433</td>\n      <td>55.025050</td>\n      <td>255.479771</td>\n      <td>55.977408</td>\n      <td>49.707433</td>\n    </tr>\n    <tr>\n      <th>std</th>\n      <td>8.341846</td>\n      <td>25.134146</td>\n      <td>234.464315</td>\n      <td>25.826184</td>\n      <td>8.341846</td>\n    </tr>\n    <tr>\n      <th>min</th>\n      <td>6.597014</td>\n      <td>0.488710</td>\n      <td>3.981225</td>\n      <td>0.177480</td>\n      <td>6.597014</td>\n    </tr>\n    <tr>\n      <th>25%</th>\n      <td>46.641427</td>\n      <td>38.959682</td>\n      <td>90.305070</td>\n      <td>39.000000</td>\n      <td>46.641427</td>\n    </tr>\n    <tr>\n      <th>50%</th>\n      <td>51.932390</td>\n      <td>68.763040</td>\n      <td>197.265750</td>\n      <td>69.000000</td>\n      <td>51.932390</td>\n    </tr>\n    <tr>\n      <th>75%</th>\n      <td>53.980428</td>\n      <td>74.201170</td>\n      <td>333.157850</td>\n      <td>79.000000</td>\n      <td>53.980428</td>\n    </tr>\n    <tr>\n      <th>max</th>\n      <td>57.424220</td>\n      <td>80.166200</td>\n      <td>937.010600</td>\n      <td>79.000000</td>\n      <td>57.424220</td>\n    </tr>\n  </tbody>\n</table>\n</div>"
     },
     "metadata": {},
     "execution_count": 12
    }
   ],
   "source": [
    "# 对 No.313 样本中 存在属性值缺失的 属性进行统计学描述\n",
    "dummy_raw_313 = raw_313[raw_313_dummy_columns].replace(0, np.NaN)\n",
    "dummy_raw_313.describe()"
   ]
  },
  {
   "cell_type": "code",
   "execution_count": 13,
   "metadata": {
    "tags": []
   },
   "outputs": [
    {
     "output_type": "stream",
     "name": "stdout",
     "text": "========== code_name: S-ZORB.PDC_2502.PV ==========\n样本数据 参照 => 44.47553984299999\n原始数据 均值 => 44.475539843\n原始数据 方差 => 32.09303634057142\n========================================\n变异系数 => 0.7215884608452379\n正态检验 => 0.23137618121257653\n正态分布检验成功，依据3σ原则进行修正\n修正数据 均值 => 44.475539843\n样本数据 修正 => 44.475539843\n========================================\n========== code_name: S-ZORB.FC_2432.DACA ==========\n样本数据 参照 => 33.015029767499996\n原始数据 均值 => 55.025049612500005\n原始数据 方差 => 25.13414568536101\n========================================\n变异系数 => 0.45677642932376933\n正态检验 => nan\n正态分布检验失败，不对样本数据进行修正\n========================================\n========== code_name: S-ZORB.PDT_3602.DACA ==========\n样本数据 参照 => 0.25898975500000004\n原始数据 均值 => 0.258989755\n原始数据 方差 => 0.12831749812724835\n========================================\n变异系数 => 0.4954539538726092\n正态检验 => 0.24438277364119265\n正态分布检验成功，依据3σ原则进行修正\n修正数据 均值 => 0.258989755\n样本数据 修正 => 0.258989755\n========================================\n========== code_name: S-ZORB.LT_9101.DACA ==========\n样本数据 参照 => 1.6824734924999998\n原始数据 均值 => 1.6824734925000002\n原始数据 方差 => 2.109765974373722\n========================================\n变异系数 => 1.2539668433282742\n正态检验 => 0.1964290696460399\n正态分布检验成功，依据3σ原则进行修正\n修正数据 均值 => 1.6824734925000002\n样本数据 修正 => 1.6824734925000002\n========================================\n========== code_name: S-ZORB.PDI_2801.DACA ==========\n样本数据 参照 => 1.5117322125\n原始数据 均值 => 1.5117322125\n原始数据 方差 => 0.9009608535022268\n========================================\n变异系数 => 0.5959791331113325\n正态检验 => 0.007545175695321982\n正态分布检验失败，不对样本数据进行修正\n========================================\n========== code_name: S-ZORB.PDI_2301.DACA ==========\n样本数据 参照 => 1.41870890675\n原始数据 均值 => 1.41870890675\n原始数据 方差 => 0.9022469596203123\n========================================\n变异系数 => 0.6359634138670444\n正态检验 => 0.007182266625131661\n正态分布检验失败，不对样本数据进行修正\n========================================\n========== code_name: S-ZORB.BS_LT_2401.PV ==========\n样本数据 参照 => 42.029711742\n原始数据 均值 => 42.029711742\n原始数据 方差 => 24.96946553128602\n========================================\n变异系数 => 0.5940908109139897\n正态检验 => 0.004866481830992031\n正态分布检验失败，不对样本数据进行修正\n========================================\n========== code_name: S-ZORB.PC_2401.DACA ==========\n样本数据 参照 => 0.9026886885000002\n原始数据 均值 => 0.9026886885000002\n原始数据 方差 => 0.8932808069810996\n========================================\n变异系数 => 0.9895779335237559\n正态检验 => 0.0072384305615548206\n正态分布检验失败，不对样本数据进行修正\n========================================\n========== code_name: S-ZORB.PC_2401B.DACA ==========\n样本数据 参照 => 0.9083910650000002\n原始数据 均值 => 0.908391065\n原始数据 方差 => 0.9017154951454321\n========================================\n变异系数 => 0.9926512158565014\n正态检验 => 0.007034099012000583\n正态分布检验失败，不对样本数据进行修正\n========================================\n========== code_name: S-ZORB.PDT_2606.DACA ==========\n样本数据 参照 => 0.9752186375\n原始数据 均值 => 0.9752186375000003\n原始数据 方差 => 3.8200448292675717\n========================================\n变异系数 => 3.9171163084622354\n正态检验 => 3.623999082260604e-09\n正态分布检验失败，不对样本数据进行修正\n========================================\n========== code_name: S-ZORB.PC_2401B.PIDA.SP ==========\n样本数据 参照 => 0.9054279197499999\n原始数据 均值 => 0.9054279197500001\n原始数据 方差 => 0.8943232360230268\n========================================\n变异系数 => 0.9877354304138981\n正态检验 => 0.007022955587922652\n正态分布检验失败，不对样本数据进行修正\n========================================\n========== code_name: S-ZORB.PC_2401B.PIDA.OP ==========\n样本数据 参照 => 27.28778725\n原始数据 均值 => 27.287787249999997\n原始数据 方差 => 20.420998172645348\n========================================\n变异系数 => 0.7483566910558257\n正态检验 => 2.3410790060074526e-09\n正态分布检验失败，不对样本数据进行修正\n========================================\n========== code_name: S-ZORB.PC_2401.PIDA.OP ==========\n样本数据 参照 => 49.24353829999999\n原始数据 均值 => 49.2435383\n原始数据 方差 => 27.79095764805749\n========================================\n变异系数 => 0.5643574488646664\n正态检验 => 0.17040969697444985\n正态分布检验成功，依据3σ原则进行修正\n修正数据 均值 => 49.2435383\n样本数据 修正 => 49.2435383\n========================================\n========== code_name: S-ZORB.PC_2401.PIDA.SP ==========\n样本数据 参照 => 1.02265214575\n原始数据 均值 => 1.02265214575\n原始数据 方差 => 0.9929710505469828\n========================================\n变异系数 => 0.9709763526861331\n正态检验 => 0.0033411239378574598\n正态分布检验失败，不对样本数据进行修正\n========================================\n========== code_name: S-ZORB.PDT_2409.DACA ==========\n样本数据 参照 => 3.9830980250000003\n原始数据 均值 => 3.9830980249999994\n原始数据 方差 => 7.123168343478661\n========================================\n变异系数 => 1.7883487423030877\n正态检验 => 0.004606239128962186\n正态分布检验失败，不对样本数据进行修正\n========================================\n========== code_name: S-ZORB.FT_1301.DACA ==========\n样本数据 参照 => 951.8920599999998\n原始数据 均值 => 951.8920599999999\n原始数据 方差 => 462.95108847755034\n========================================\n变异系数 => 0.4863483034804917\n正态检验 => 0.04761800948087602\n正态分布检验失败，不对样本数据进行修正\n========================================\n========== code_name: S-ZORB.FC_2432.PIDA.SP ==========\n样本数据 参照 => 33.5864445575\n原始数据 均值 => 55.977407595833334\n原始数据 方差 => 25.82618405504634\n========================================\n变异系数 => 0.4613679904849453\n正态检验 => nan\n正态分布检验失败，不对样本数据进行修正\n========================================\n========== code_name: S-ZORB.AT-0002.DACA.PV ==========\n样本数据 参照 => 0.071777039425\n原始数据 均值 => 0.071777039425\n原始数据 方差 => 0.03627603377119\n========================================\n变异系数 => 0.5053988582114051\n正态检验 => 0.9639430665831635\n正态分布检验成功，依据3σ原则进行修正\n修正数据 均值 => 0.071777039425\n样本数据 修正 => 0.071777039425\n========================================\n========== code_name: S-ZORB.AT-0003.DACA.PV ==========\n样本数据 参照 => 2.01694905\n原始数据 均值 => 2.01694905\n原始数据 方差 => 0.7242036161450286\n========================================\n变异系数 => 0.3590589539904484\n正态检验 => 0.008114267429102373\n正态分布检验失败，不对样本数据进行修正\n========================================\n========== code_name: S-ZORB.FT_1503.DACA.PV ==========\n样本数据 参照 => 1943.691157499999\n原始数据 均值 => 1943.6911575\n原始数据 方差 => 736.7886349672093\n========================================\n变异系数 => 0.3790667216467024\n正态检验 => 0.16196340790496389\n正态分布检验成功，依据3σ原则进行修正\n修正数据 均值 => 1943.6911575\n样本数据 修正 => 1943.6911575\n========================================\n"
    }
   ],
   "source": [
    "raw_313_filter = raw_313.drop(raw_313[['S-ZORB.FT_2431.DACA']], axis=1).replace(0, np.NaN)\n",
    "raw_313_filter_describe = raw_313_filter.describe()\n",
    "temp_ratio = raw_313_filter_describe.loc['std'] / raw_313_filter_describe.loc['mean']\n",
    "for (code_name, i18n_name) in temp_ratio.keys():\n",
    "    if temp_ratio[(code_name, i18n_name)] > 0.3:\n",
    "        print(f\"{'='*10} code_name: {code_name} {'='*10}\")\n",
    "        print(f\"样本数据 参照 => {sample_313[(code_name, i18n_name)]}\")\n",
    "        print(f\"原始数据 均值 => {raw_313_filter_describe.loc['mean', (code_name, i18n_name)]}\")\n",
    "        print(f\"原始数据 方差 => {raw_313_filter_describe.loc['std', (code_name, i18n_name)]}\")\n",
    "        print(f\"{'='*40}\")\n",
    "        print(f\"变异系数 => {temp_ratio[(code_name, i18n_name)]}\")\n",
    "        norm_test = stats.kstest(raw_313_filter[(code_name, i18n_name)], 'norm', (raw_313_filter_describe.loc['mean', (code_name, i18n_name)], raw_313_filter_describe.loc['std', (code_name, i18n_name)]))\n",
    "        \n",
    "        print(f\"正态检验 => {norm_test.pvalue}\")\n",
    "        if norm_test.pvalue > 0.05:\n",
    "            print(f\"正态分布检验成功，依据3σ原则进行修正\")\n",
    "            temp_data = raw_313_filter[(code_name, i18n_name)][np.abs(raw_313_filter[(code_name, i18n_name)] - raw_313_filter_describe.loc['mean', (code_name, i18n_name)]) <= 3 * raw_313_filter_describe.loc['std', (code_name, i18n_name)]]\n",
    "            print(f\"修正数据 均值 => {temp_data.mean()}\")\n",
    "            sample_313[(code_name, i18n_name)] = temp_data.mean()\n",
    "            print(f\"样本数据 修正 => {sample_313[(code_name, i18n_name)]}\")\n",
    "        else:\n",
    "            print(f\"正态分布检验失败，不对样本数据进行修正\")\n",
    "        print(f\"{'='*40}\")"
   ]
  },
  {
   "cell_type": "code",
   "execution_count": null,
   "metadata": {},
   "outputs": [],
   "source": []
  },
  {
   "source": [
    "### 处理 No.285 样本\n",
    "- 将 No.285 样本的原始数据进行处理，先将属于285号样本的原始数据从表中剥离出来\n",
    "- 对每一列操作属性进行均值、最大值、最小值、标准差求取，以判断其是否有异常值\n",
    "- 最后对 No.285 号样本进行 样本确定法 求取每一个操作属性的均值"
   ],
   "cell_type": "markdown",
   "metadata": {}
  },
  {
   "cell_type": "code",
   "execution_count": null,
   "metadata": {},
   "outputs": [],
   "source": [
    "# 取出 No.285 样本的描述属性中的均值一行\n",
    "var_raw_285_mean = raw_285_describe.iloc[1]\n",
    "# 将 No.285 样本的 原始数据均值 直接替换到 样本数据 中（《附件二：样本确定法》）\n",
    "for (code_key, i18n_key) in var_raw_285_mean.keys():\n",
    "    samples.loc[284, code_key][0] = var_raw_285_mean[code_key][0]"
   ]
  },
  {
   "cell_type": "code",
   "execution_count": null,
   "metadata": {},
   "outputs": [],
   "source": [
    "# 查看样本点的描述属性\n",
    "raw_313_describe = raw_313.describe()\n",
    "raw_313_describe"
   ]
  },
  {
   "cell_type": "code",
   "execution_count": null,
   "metadata": {},
   "outputs": [],
   "source": []
  },
  {
   "cell_type": "code",
   "execution_count": null,
   "metadata": {},
   "outputs": [],
   "source": [
    "df = pd.read_excel(io=sample_data, header=[0, 1], skiprows=[0])\n",
    "df.iloc[312, :22]"
   ]
  },
  {
   "source": [
    "### 问题二：\n",
    "\n",
    "寻找建模主要变量：建立降低辛烷值损失模型涉及包括7个原料性质、2个待生吸附剂性质、2个再生吸附剂性质、2个产品性质等变量以及另外354个操作变量（共计367个变量），工程技术应用中经常使用先降维后建模的方法，这有利于忽略次要因素，发现并分析影响模型的主要变量与因素。因此，请你们根据提供的325个样本数据（见附件一），通过降维的方法从367个操作变量中筛选出建模主要变量，使之尽可能具有代表性、独立性（为了工程应用方便，建议降维后的主要变量在30个以下），并请详细说明建模主要变量的筛选过程及其合理性。（提示：请考虑将原料的辛烷值作为建模变量之一）。\n",
    "\n",
    "即 特征工程 -- 特征选择&数据降维\n",
    "\n",
    "解题思路：\n",
    "+ 特征选择\n",
    "    - 数据值是否缺失过多：如果一个特征的样本数据缺失较多，则无法统计其对目标的影响，将该变量删除\n",
    "        - 具体方法：分别统计操作变量的缺失值数量，然后计算其在数据中的比例，超过一定比例的特征可以删除\n",
    "    - 特征是否发散：如果一个特征不发散，也就是说样本在这个特征上基本上没有差异，这个特征对于样本的区分并没有什么用\n",
    "        - 具体方法：分别计算操作变量的方差，按方差的大小（需要结合《附件四：354个操作变量信息.xlsx》中的变量阈值进行归一化处理）进行排序（从大到小排），末尾删除一定数量\n",
    "    - 特征与目标的相关性：这点比较显见，与目标相关性高的特征，应当优选选择，反之则相反\n",
    "        - 具体方法：利用决策树算法，即采用方差的方法对特征值进行判别，每次选取一个特征值时会\n",
    "\n",
    "> 在特征选择步骤中如果处理后存在未删除的缺失数据，需要考虑对缺失数据的补充，可以考虑对该数据的分布进行概率分布建模（例如：高斯分布）来确定其值，需要，即在进行数据降维操作之前，需要对数据完整性进行保证\n",
    "\n",
    "+ 数据降维 (需要注意：“它们的操作变量（控制变量）之间具有高度非线性和相互强耦联的关系”题干中已经明确说明了)\n",
    "    - 特征之间的相关性：因为操作变量之间是非线性关系，因此无法使用常规的线性降维方式，需要采用流形学习和核化方式对操作变量进行降维\n",
    "        - 具体方法：利用t-SNE对操作变量进行降维\n",
    "        "
   ],
   "cell_type": "markdown",
   "metadata": {}
  },
  {
   "cell_type": "code",
   "execution_count": null,
   "metadata": {},
   "outputs": [],
   "source": [
    "df = pd.read_excel(io=sample_data, header=[0, 1], skiprows=[0])\n",
    "df.iloc[284, :22]"
   ]
  },
  {
   "cell_type": "code",
   "execution_count": null,
   "metadata": {},
   "outputs": [],
   "source": []
  }
 ]
}