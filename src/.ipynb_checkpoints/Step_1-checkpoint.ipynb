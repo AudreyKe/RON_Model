{
 "cells": [
  {
   "cell_type": "markdown",
   "metadata": {},
   "source": [
    "### 问题一：\n",
    "\n",
    "数据处理：请参考近4年的工业数据(见附件一“325个数据样本数据.xlsx”)的预处理结果，依“样本确定方法”（附件二）对285号和313号数据样本进行预处理（原始数据见附件三“285号和313号样本原始数据.xlsx”）并将处理后的数据分别加入到附件一中相应的样本号中，供下面研究使用。\n",
    "\n",
    "> 认真阅读《附件二：样本确定方法.docx》\n",
    "\n",
    "考点：数据预处理 ====> 补全数据&修正数据"
   ]
  },
  {
   "cell_type": "markdown",
   "metadata": {},
   "source": [
    "前提假设：\n",
    "    \n",
    "- 短时间内对于人为操作对于采样数据的影响体现不及时，采样数据仍然呈现相应的高斯分布规律\n",
    "    \n",
    "相应公式：\n",
    "\n",
    "+ 缺失率(Missing Value Ratio) = $\\frac{\\displaystyle{\\mathbb{I}}(v_{loss}^{(i)} = 0|d_{loss}^{(i)}  \\in \\displaystyle{\\mathcal{D}}_{loss})}{\\displaystyle{\\mathbb{I}}(v_{loss}^{(i)} |d_{loss}^{(i)} \\in \\displaystyle{\\mathcal{D}}_{loss})}$ \n",
    "+ 变异系数(Coefficient of Variation) =  $\\frac{\\displaystyle{\\text{std}}(\\displaystyle{\\mathcal{V}_{r})}}{\\displaystyle{\\text{mean}}(\\displaystyle{\\mathcal{V}_{r}})}$ \n",
    "\n",
    "可调参数：\n",
    "\n",
    "+ $r_{1}$ => 缺失率(Missing Value Ratio) "
   ]
  },
  {
   "cell_type": "markdown",
   "metadata": {},
   "source": [
    "解题思路：\n",
    "\n",
    "+ 补全数据：\n",
    "\n",
    "    - 即需要先确认 样本数据集 $\\displaystyle{\\mathcal{X}}_{s}$ 中 285号 $x_{s}^{(285)}$ 样本 和 313号 $x_{s}^{(313)}$ 样本 存在属性值缺失的属性集合 $\\displaystyle{\\mathcal{D}}_{miss}^{(285)}$ 和 $\\displaystyle{\\mathcal{D}}_{miss}^{(313)}$\n",
    "        - 然后判断这些缺失的属性 $d_{miss} \\in \\displaystyle{\\mathcal{D}}_{miss}$ 是否在 原始数据集 $\\displaystyle{\\mathcal{X}}_{r}$ 中也存在数值缺失，依据 缺失率(Missing Value Ratio) 对其进行删减 $\\displaystyle{\\hat{\\mathcal{D}}}_{miss}$\n",
    "    - 对于剩余的 缺失属性集合 $\\displaystyle{\\hat{\\mathcal{D}}}_{miss}$ 中的缺失的属性值从 原始数据集 $\\displaystyle{\\mathcal{X}}_{r}$ 中以求取均值 mean($\\displaystyle{\\mathcal{V}_{r}}$) 的方式得到\n",
    "\n",
    "+ 修正数据：\n",
    "\n",
    "    - 即需要先确认 原始数据集 $\\displaystyle{\\mathcal{X}}_{r}$ 中 285号 $x_{s}^{(285)}$ 和 313号 $x_{s}^{(313)}$ 样本中各属性的属性值缺失情况，对于缺失情况较大的属性则不对 样本数据集 $\\displaystyle{\\mathcal{X}}_{s}$ 中的 属性值 $\\displaystyle{\\mathcal{D}}$ 进行修正\n",
    "    - 将 285号 $x_{s}^{(285)}$ 和 313号 $x_{s}^{(313)}$ 样本中需要修正的属性依据 正态分布 $x \\sim \\displaystyle{\\mathcal{N}}(\\mu, \\sigma)$ 假设检验，然后使用 依达拉原则(3$\\sigma$) 剔除一些不在范围内的样本，对剩余的原始数据 $\\displaystyle{\\hat{\\mathcal{X}}_{r}}$ 进行求取均值 mean($\\displaystyle{\\hat{\\mathcal{V}}_{r}}$) 的操作"
   ]
  },
  {
   "cell_type": "markdown",
   "metadata": {},
   "source": [
    "代码逻辑：\n",
    "\n",
    "+ 补全数据：\n",
    "\n",
    "    - 首先从 样本数据集 $\\displaystyle{\\mathcal{X}}_{s}$ 中确定样本 285号 $x_{s}^{(285)}$ 和 313号 $x_{s}^{(313)}$ 缺失的属性集合 $\\displaystyle{\\mathcal{D}}_{loss}^{(285)}$ 和 $\\displaystyle{\\mathcal{D}}_{loss}^{(313)}$\n",
    "    - 然后分别对两个集合中缺失的属性 $d_{loss} \\in \\displaystyle{\\mathcal{D}}_{loss}$ 对应到 原始数据集 $\\displaystyle{\\mathcal{X}}_{r}$ 中，逐一对每个缺失的属性值进行判别\n",
    "    - 这里使用 缺失率(Missing Value Ratio) $r_{1}$ 对当前 缺失的属性 $d_{loss}$ 在 原始数据集 $\\displaystyle{\\mathcal{X}}_{r}$ 中 数据采集的状况 进行评估\n",
    "        + 当比值 $ r_{1} \\ge \\frac{9}{10} $ 时，对当前 缺失的属性的值 $\\displaystyle{\\mathcal{V}_{d_{loss}}}$ 进行求均值 mean($\\displaystyle{\\mathcal{V}_{d_{loss}}}$) 处理；(此处求取均值之前仍然需要对原始数据进行修正，修正步骤见下述)\n",
    "        + 当比值 $ r_{1} < \\frac{9}{10} $ 时，对当前 缺失的属性 $d_{loss}$ 进行直接忽略处理；\n",
    "\n",
    "+ 修正数据：\n",
    "\n",
    "    + 对样本 $x_{s}^{(285)}$ 和 $x_{s}^{(313)}$ 进行 缺失的属性 $d_{loss}^{(285)} \\in \\displaystyle{\\mathcal{D}}_{loss}^{(285)}$ 和 $d_{loss}^{(313)} \\in \\displaystyle{\\mathcal{D}}_{loss}^{(313)}$ 求均值之前 先需要进行异常值处理\n",
    "        - 根据拉依达准则（3$\\sigma$准则）去除异常值，得到 缺失的属性 $d_{loss}^{(i)}$ 对应的过滤后的 原始属性值 集合 $\\displaystyle{\\hat{\\mathcal{V}}_{d_{loss}}}$ \n",
    "        - 将处理后的 原始属性值集合 $\\displaystyle{\\hat{\\mathcal{V}}_{d_{loss}}}$ 中的属性值进行求取 均值 mean($\\displaystyle{\\hat{\\mathcal{V}}_{d_{loss}}}$) 操作，将结果加入到 $\\displaystyle{\\mathcal{X}}_{s}$ 中对应的 样本数据  $x_{s}^{(285)}$ 和 $x_{s}^{(313)}$ 对应的 缺失的属性 $d_{loss}^{(i)}$ 中"
   ]
  },
  {
   "cell_type": "code",
   "execution_count": 1,
   "metadata": {},
   "outputs": [],
   "source": [
    "import numpy as np\n",
    "import missingno as msno\n",
    "\n",
    "from scipy import stats\n",
    "from matplotlib import pyplot as plt\n",
    "\n",
    "# Suppress warnings from pandas\n",
    "import warnings\n",
    "warnings.filterwarnings('ignore')\n",
    "\n",
    "plt.style.use('seaborn')\n",
    "plt.rcParams['font.family'] = ['SimHei']  # 用来正常显示中文标签\n",
    "plt.rcParams['axes.unicode_minus'] = False  # 用来正常显示负号\n",
    "%matplotlib inline"
   ]
  },
  {
   "cell_type": "code",
   "execution_count": 2,
   "metadata": {},
   "outputs": [],
   "source": [
    "%store -r origin_data\n",
    "%store -r samples_data"
   ]
  },
  {
   "cell_type": "code",
   "execution_count": 3,
   "metadata": {},
   "outputs": [
    {
     "data": {
      "text/plain": [
       "样本编号                     Unnamed: 0_level_1         285\n",
       "S-ZORB.CAL_H2.PV         氢油比                   0.273399\n",
       "S-ZORB.PDI_2102.PV       反应过滤器压差                24.2082\n",
       "S-ZORB.PT_2801.PV        还原器压力                  2.52887\n",
       "S-ZORB.FC_2801.PV        还原器流化氢气流量              855.883\n",
       "S-ZORB.TE_2103.PV        反应器上部温度                421.509\n",
       "S-ZORB.TE_2005.PV        反应器底部温度                421.196\n",
       "S-ZORB.PT_2101.PV        反应器顶部压力                2.42709\n",
       "S-ZORB.PDT_2104.PV       反应器顶底压差                 59.703\n",
       "S-ZORB.SIS_PDT_2103B.PV  反应过滤器压差                1108.29\n",
       "Name: 284, dtype: object"
      ]
     },
     "execution_count": 3,
     "metadata": {},
     "output_type": "execute_result"
    }
   ],
   "source": [
    "# No.285 样本\n",
    "sample_285 = samples_data.iloc[284]\n",
    "sample_285 = sample_285.drop(index=sample_285.index[[x for x in range(1, 16)]], axis=1)\n",
    "\n",
    "# 查看 No.285 数据情况\n",
    "sample_285.iloc[:10]"
   ]
  },
  {
   "cell_type": "code",
   "execution_count": 4,
   "metadata": {},
   "outputs": [
    {
     "data": {
      "text/plain": [
       "样本编号                     Unnamed: 0_level_1         313\n",
       "S-ZORB.CAL_H2.PV         氢油比                   0.261936\n",
       "S-ZORB.PDI_2102.PV       反应过滤器压差                17.1835\n",
       "S-ZORB.PT_2801.PV        还原器压力                  2.41706\n",
       "S-ZORB.FC_2801.PV        还原器流化氢气流量              850.301\n",
       "S-ZORB.TE_2103.PV        反应器上部温度                424.969\n",
       "S-ZORB.TE_2005.PV        反应器底部温度                424.522\n",
       "S-ZORB.PT_2101.PV        反应器顶部压力                 2.3159\n",
       "S-ZORB.PDT_2104.PV       反应器顶底压差                61.7014\n",
       "S-ZORB.SIS_PDT_2103B.PV  反应过滤器压差                1250.69\n",
       "Name: 312, dtype: object"
      ]
     },
     "execution_count": 4,
     "metadata": {},
     "output_type": "execute_result"
    }
   ],
   "source": [
    "# No.313 样本\n",
    "sample_313 = samples_data.iloc[312]\n",
    "sample_313 = sample_313.drop(index=sample_313.index[[x for x in range(1, 16)]], axis=1)\n",
    "\n",
    "# 查看 No.313 数据情况\n",
    "sample_313.iloc[:10]"
   ]
  },
  {
   "cell_type": "code",
   "execution_count": 5,
   "metadata": {},
   "outputs": [],
   "source": [
    "def find_dummy_colmuns(sample):\n",
    "    dummy_columns = []\n",
    "    for (code_name, i18n_name) in sample.keys():\n",
    "        if not sample[(code_name, i18n_name)]:\n",
    "            dummy_columns.append(code_name)\n",
    "    return dummy_columns"
   ]
  },
  {
   "cell_type": "code",
   "execution_count": 6,
   "metadata": {},
   "outputs": [
    {
     "name": "stdout",
     "output_type": "stream",
     "text": [
      "No.285 属性值为空的列: ['S-ZORB.FT_1501.PV', 'S-ZORB.FT_1002.PV', 'S-ZORB.FC_1202.PV', 'S-ZORB.FT_1501.TOTAL', 'S-ZORB.FT_5102.PV', 'S-ZORB.FT_2901.DACA', 'S-ZORB.FC_1104.DACA', 'S-ZORB.FT_2803.DACA', 'S-ZORB.FT_1502.DACA', 'S-ZORB.TEX_3103A.DACA', 'S-ZORB.FT_5102.DACA.PV']\n"
     ]
    }
   ],
   "source": [
    "sample_285_dummy_columns = find_dummy_colmuns(sample_285)\n",
    "# 查看 No.285 属性值为空的情况\n",
    "print(f\"No.285 属性值为空的列: {sample_285_dummy_columns}\")"
   ]
  },
  {
   "cell_type": "code",
   "execution_count": 7,
   "metadata": {},
   "outputs": [
    {
     "name": "stdout",
     "output_type": "stream",
     "text": [
      "No.313 属性值为空的列: ['S-ZORB.FT_1501.PV', 'S-ZORB.FT_1002.PV', 'S-ZORB.FT_1501.TOTAL', 'S-ZORB.FT_2901.DACA', 'S-ZORB.FC_1104.DACA', 'S-ZORB.FT_2803.DACA', 'S-ZORB.FT_1502.DACA', 'S-ZORB.TEX_3103A.DACA']\n"
     ]
    }
   ],
   "source": [
    "# 查看 No.313 属性值为空的情况\n",
    "sample_313_dummy_columns = find_dummy_colmuns(sample_313)\n",
    "print(f\"No.313 属性值为空的列: {sample_313_dummy_columns}\")"
   ]
  },
  {
   "cell_type": "code",
   "execution_count": 8,
   "metadata": {},
   "outputs": [
    {
     "name": "stdout",
     "output_type": "stream",
     "text": [
      "拆分出来的285号样本的原始数据\n"
     ]
    },
    {
     "data": {
      "text/html": [
       "<div>\n",
       "<style scoped>\n",
       "    .dataframe tbody tr th:only-of-type {\n",
       "        vertical-align: middle;\n",
       "    }\n",
       "\n",
       "    .dataframe tbody tr th {\n",
       "        vertical-align: top;\n",
       "    }\n",
       "\n",
       "    .dataframe thead tr th {\n",
       "        text-align: left;\n",
       "    }\n",
       "</style>\n",
       "<table border=\"1\" class=\"dataframe\">\n",
       "  <thead>\n",
       "    <tr>\n",
       "      <th></th>\n",
       "      <th>S-ZORB.FT_1501.PV</th>\n",
       "      <th>S-ZORB.FT_1002.PV</th>\n",
       "      <th>S-ZORB.FC_1202.PV</th>\n",
       "      <th>S-ZORB.FT_1501.TOTAL</th>\n",
       "      <th>S-ZORB.FT_5102.PV</th>\n",
       "      <th>S-ZORB.FT_2901.DACA</th>\n",
       "      <th>S-ZORB.FC_1104.DACA</th>\n",
       "      <th>S-ZORB.FT_2803.DACA</th>\n",
       "      <th>S-ZORB.FT_1502.DACA</th>\n",
       "      <th>S-ZORB.TEX_3103A.DACA</th>\n",
       "      <th>S-ZORB.FT_5102.DACA.PV</th>\n",
       "    </tr>\n",
       "    <tr>\n",
       "      <th></th>\n",
       "      <th>新氢进装置流量</th>\n",
       "      <th>1#催化汽油进装置流量</th>\n",
       "      <th>D121顶去放火炬流量</th>\n",
       "      <th>新氢进装置流量</th>\n",
       "      <th>0</th>\n",
       "      <th>D-109松动风流量</th>\n",
       "      <th>进料调节阀旁路流量</th>\n",
       "      <th>紧急氢气去D-102流量</th>\n",
       "      <th>补充氢压缩机出口返回管流量</th>\n",
       "      <th>EH-102加热元件/A束温度</th>\n",
       "      <th>D-201含硫污水排量</th>\n",
       "    </tr>\n",
       "  </thead>\n",
       "  <tbody>\n",
       "    <tr>\n",
       "      <th>0</th>\n",
       "      <td>0.0</td>\n",
       "      <td>0.0</td>\n",
       "      <td>0.0</td>\n",
       "      <td>0.0</td>\n",
       "      <td>0.0</td>\n",
       "      <td>0.0</td>\n",
       "      <td>0.0</td>\n",
       "      <td>0.0</td>\n",
       "      <td>0.0</td>\n",
       "      <td>0.0</td>\n",
       "      <td>0.0</td>\n",
       "    </tr>\n",
       "    <tr>\n",
       "      <th>1</th>\n",
       "      <td>0.0</td>\n",
       "      <td>0.0</td>\n",
       "      <td>0.0</td>\n",
       "      <td>0.0</td>\n",
       "      <td>0.0</td>\n",
       "      <td>0.0</td>\n",
       "      <td>0.0</td>\n",
       "      <td>0.0</td>\n",
       "      <td>0.0</td>\n",
       "      <td>0.0</td>\n",
       "      <td>0.0</td>\n",
       "    </tr>\n",
       "    <tr>\n",
       "      <th>2</th>\n",
       "      <td>0.0</td>\n",
       "      <td>0.0</td>\n",
       "      <td>0.0</td>\n",
       "      <td>0.0</td>\n",
       "      <td>0.0</td>\n",
       "      <td>0.0</td>\n",
       "      <td>0.0</td>\n",
       "      <td>0.0</td>\n",
       "      <td>0.0</td>\n",
       "      <td>0.0</td>\n",
       "      <td>0.0</td>\n",
       "    </tr>\n",
       "    <tr>\n",
       "      <th>3</th>\n",
       "      <td>0.0</td>\n",
       "      <td>0.0</td>\n",
       "      <td>0.0</td>\n",
       "      <td>0.0</td>\n",
       "      <td>0.0</td>\n",
       "      <td>0.0</td>\n",
       "      <td>0.0</td>\n",
       "      <td>0.0</td>\n",
       "      <td>0.0</td>\n",
       "      <td>0.0</td>\n",
       "      <td>0.0</td>\n",
       "    </tr>\n",
       "    <tr>\n",
       "      <th>4</th>\n",
       "      <td>0.0</td>\n",
       "      <td>0.0</td>\n",
       "      <td>0.0</td>\n",
       "      <td>0.0</td>\n",
       "      <td>0.0</td>\n",
       "      <td>0.0</td>\n",
       "      <td>0.0</td>\n",
       "      <td>0.0</td>\n",
       "      <td>0.0</td>\n",
       "      <td>0.0</td>\n",
       "      <td>0.0</td>\n",
       "    </tr>\n",
       "  </tbody>\n",
       "</table>\n",
       "</div>"
      ],
      "text/plain": [
       "  S-ZORB.FT_1501.PV S-ZORB.FT_1002.PV S-ZORB.FC_1202.PV S-ZORB.FT_1501.TOTAL  \\\n",
       "            新氢进装置流量       1#催化汽油进装置流量       D121顶去放火炬流量              新氢进装置流量   \n",
       "0               0.0               0.0               0.0                  0.0   \n",
       "1               0.0               0.0               0.0                  0.0   \n",
       "2               0.0               0.0               0.0                  0.0   \n",
       "3               0.0               0.0               0.0                  0.0   \n",
       "4               0.0               0.0               0.0                  0.0   \n",
       "\n",
       "  S-ZORB.FT_5102.PV S-ZORB.FT_2901.DACA S-ZORB.FC_1104.DACA  \\\n",
       "                  0          D-109松动风流量           进料调节阀旁路流量   \n",
       "0               0.0                 0.0                 0.0   \n",
       "1               0.0                 0.0                 0.0   \n",
       "2               0.0                 0.0                 0.0   \n",
       "3               0.0                 0.0                 0.0   \n",
       "4               0.0                 0.0                 0.0   \n",
       "\n",
       "  S-ZORB.FT_2803.DACA S-ZORB.FT_1502.DACA S-ZORB.TEX_3103A.DACA  \\\n",
       "         紧急氢气去D-102流量       补充氢压缩机出口返回管流量       EH-102加热元件/A束温度   \n",
       "0                 0.0                 0.0                   0.0   \n",
       "1                 0.0                 0.0                   0.0   \n",
       "2                 0.0                 0.0                   0.0   \n",
       "3                 0.0                 0.0                   0.0   \n",
       "4                 0.0                 0.0                   0.0   \n",
       "\n",
       "  S-ZORB.FT_5102.DACA.PV  \n",
       "             D-201含硫污水排量  \n",
       "0                    0.0  \n",
       "1                    0.0  \n",
       "2                    0.0  \n",
       "3                    0.0  \n",
       "4                    0.0  "
      ]
     },
     "execution_count": 8,
     "metadata": {},
     "output_type": "execute_result"
    }
   ],
   "source": [
    "# 根据在样本数据中缺失值的属性列，拆分原始数据中285号样本的数据\n",
    "print(\"拆分出来的285号样本的原始数据\")\n",
    "raw_285 = origin_data.iloc[:40]\n",
    "raw_285[sample_285_dummy_columns].head(n=5)"
   ]
  },
  {
   "cell_type": "code",
   "execution_count": 9,
   "metadata": {},
   "outputs": [
    {
     "name": "stdout",
     "output_type": "stream",
     "text": [
      "拆分出来的313号样本的原始数据\n"
     ]
    },
    {
     "data": {
      "text/html": [
       "<div>\n",
       "<style scoped>\n",
       "    .dataframe tbody tr th:only-of-type {\n",
       "        vertical-align: middle;\n",
       "    }\n",
       "\n",
       "    .dataframe tbody tr th {\n",
       "        vertical-align: top;\n",
       "    }\n",
       "\n",
       "    .dataframe thead tr th {\n",
       "        text-align: left;\n",
       "    }\n",
       "</style>\n",
       "<table border=\"1\" class=\"dataframe\">\n",
       "  <thead>\n",
       "    <tr>\n",
       "      <th></th>\n",
       "      <th>S-ZORB.FT_1501.PV</th>\n",
       "      <th>S-ZORB.FT_1002.PV</th>\n",
       "      <th>S-ZORB.FT_1501.TOTAL</th>\n",
       "      <th>S-ZORB.FT_2901.DACA</th>\n",
       "      <th>S-ZORB.FC_1104.DACA</th>\n",
       "      <th>S-ZORB.FT_2803.DACA</th>\n",
       "      <th>S-ZORB.FT_1502.DACA</th>\n",
       "      <th>S-ZORB.TEX_3103A.DACA</th>\n",
       "    </tr>\n",
       "    <tr>\n",
       "      <th></th>\n",
       "      <th>新氢进装置流量</th>\n",
       "      <th>1#催化汽油进装置流量</th>\n",
       "      <th>新氢进装置流量</th>\n",
       "      <th>D-109松动风流量</th>\n",
       "      <th>进料调节阀旁路流量</th>\n",
       "      <th>紧急氢气去D-102流量</th>\n",
       "      <th>补充氢压缩机出口返回管流量</th>\n",
       "      <th>EH-102加热元件/A束温度</th>\n",
       "    </tr>\n",
       "  </thead>\n",
       "  <tbody>\n",
       "    <tr>\n",
       "      <th>41</th>\n",
       "      <td>0.0</td>\n",
       "      <td>0.0</td>\n",
       "      <td>0.0</td>\n",
       "      <td>0.0</td>\n",
       "      <td>0.0</td>\n",
       "      <td>0.0</td>\n",
       "      <td>0.0</td>\n",
       "      <td>0.0</td>\n",
       "    </tr>\n",
       "    <tr>\n",
       "      <th>42</th>\n",
       "      <td>0.0</td>\n",
       "      <td>0.0</td>\n",
       "      <td>0.0</td>\n",
       "      <td>0.0</td>\n",
       "      <td>0.0</td>\n",
       "      <td>0.0</td>\n",
       "      <td>0.0</td>\n",
       "      <td>0.0</td>\n",
       "    </tr>\n",
       "    <tr>\n",
       "      <th>43</th>\n",
       "      <td>0.0</td>\n",
       "      <td>0.0</td>\n",
       "      <td>0.0</td>\n",
       "      <td>0.0</td>\n",
       "      <td>0.0</td>\n",
       "      <td>0.0</td>\n",
       "      <td>0.0</td>\n",
       "      <td>0.0</td>\n",
       "    </tr>\n",
       "    <tr>\n",
       "      <th>44</th>\n",
       "      <td>0.0</td>\n",
       "      <td>0.0</td>\n",
       "      <td>0.0</td>\n",
       "      <td>0.0</td>\n",
       "      <td>0.0</td>\n",
       "      <td>0.0</td>\n",
       "      <td>0.0</td>\n",
       "      <td>0.0</td>\n",
       "    </tr>\n",
       "    <tr>\n",
       "      <th>45</th>\n",
       "      <td>0.0</td>\n",
       "      <td>0.0</td>\n",
       "      <td>0.0</td>\n",
       "      <td>0.0</td>\n",
       "      <td>0.0</td>\n",
       "      <td>0.0</td>\n",
       "      <td>0.0</td>\n",
       "      <td>0.0</td>\n",
       "    </tr>\n",
       "  </tbody>\n",
       "</table>\n",
       "</div>"
      ],
      "text/plain": [
       "   S-ZORB.FT_1501.PV S-ZORB.FT_1002.PV S-ZORB.FT_1501.TOTAL  \\\n",
       "             新氢进装置流量       1#催化汽油进装置流量              新氢进装置流量   \n",
       "41               0.0               0.0                  0.0   \n",
       "42               0.0               0.0                  0.0   \n",
       "43               0.0               0.0                  0.0   \n",
       "44               0.0               0.0                  0.0   \n",
       "45               0.0               0.0                  0.0   \n",
       "\n",
       "   S-ZORB.FT_2901.DACA S-ZORB.FC_1104.DACA S-ZORB.FT_2803.DACA  \\\n",
       "            D-109松动风流量           进料调节阀旁路流量        紧急氢气去D-102流量   \n",
       "41                 0.0                 0.0                 0.0   \n",
       "42                 0.0                 0.0                 0.0   \n",
       "43                 0.0                 0.0                 0.0   \n",
       "44                 0.0                 0.0                 0.0   \n",
       "45                 0.0                 0.0                 0.0   \n",
       "\n",
       "   S-ZORB.FT_1502.DACA S-ZORB.TEX_3103A.DACA  \n",
       "         补充氢压缩机出口返回管流量       EH-102加热元件/A束温度  \n",
       "41                 0.0                   0.0  \n",
       "42                 0.0                   0.0  \n",
       "43                 0.0                   0.0  \n",
       "44                 0.0                   0.0  \n",
       "45                 0.0                   0.0  "
      ]
     },
     "execution_count": 9,
     "metadata": {},
     "output_type": "execute_result"
    }
   ],
   "source": [
    "# 根据在样本数据中缺失值的属性列，拆分原始数据中313号样本的数据\n",
    "print(\"拆分出来的313号样本的原始数据\")\n",
    "raw_313 = origin_data.iloc[41:]\n",
    "raw_313[sample_313_dummy_columns].head(n=5)"
   ]
  },
  {
   "cell_type": "code",
   "execution_count": 10,
   "metadata": {},
   "outputs": [
    {
     "name": "stdout",
     "output_type": "stream",
     "text": [
      "[]\n"
     ]
    }
   ],
   "source": [
    "# 计算 No.285 样本 上述缺失属性集合中 属性值存在 缺失率，并输出缺失率不超过 阈值的列名\n",
    "dummy_285 = raw_285[sample_285_dummy_columns]\n",
    "dummy_285_nonzeroratio = dummy_285.astype(bool).sum(axis=0) / dummy_285.shape[0]\n",
    "nodummy_285_columns = []\n",
    "for (code_name, i18n_name) in dummy_285_nonzeroratio.keys():\n",
    "    if dummy_285_nonzeroratio[(code_name, i18n_name)] >= 0.9:\n",
    "        nodummy_285_columns.append(code_name)\n",
    "print(nodummy_285_columns)"
   ]
  },
  {
   "cell_type": "code",
   "execution_count": 11,
   "metadata": {},
   "outputs": [
    {
     "name": "stdout",
     "output_type": "stream",
     "text": [
      "[]\n"
     ]
    }
   ],
   "source": [
    "# 计算 No.313 样本 上述缺失属性集合中 属性值存在 缺失率，并输出缺失率不超过 阈值的列名\n",
    "dummy_313 = raw_313[sample_313_dummy_columns]\n",
    "dummy_313_nonzeroratio = dummy_313.astype(bool).sum(axis=0) / dummy_313.shape[0]\n",
    "nodummy_313_columns = []\n",
    "for (code_name, i18n_name) in dummy_313_nonzeroratio.keys():\n",
    "    if dummy_313_nonzeroratio[(code_name, i18n_name)] >= 0.9:\n",
    "        nodummy_313_columns.append(code_name)\n",
    "print(nodummy_313_columns)"
   ]
  },
  {
   "cell_type": "code",
   "execution_count": 12,
   "metadata": {},
   "outputs": [],
   "source": [
    "# 缺失率 $r_1$\n",
    "missing_ratio1 = 0.9  # 可调参数"
   ]
  },
  {
   "cell_type": "code",
   "execution_count": 13,
   "metadata": {},
   "outputs": [
    {
     "name": "stdout",
     "output_type": "stream",
     "text": [
      "[]\n"
     ]
    }
   ],
   "source": [
    "# 计算 No.285 样本 其余属性的 缺失率，并记录存在缺失的 属性名\n",
    "raw_285 = raw_285.drop(raw_285[sample_285_dummy_columns], axis=1)\n",
    "raw_285_nonzeroratio = raw_285.astype(bool).sum(axis=0) / raw_285.shape[0]\n",
    "raw_285_dummy_columns = []\n",
    "raw_313_delete_columns = []\n",
    "for (code_name, i18n_name) in raw_285_nonzeroratio.keys():\n",
    "    if raw_285_nonzeroratio[(code_name, i18n_name)] != 1.0:\n",
    "        raw_285_dummy_columns.append(code_name)\n",
    "        if raw_285_nonzeroratio[(code_name, i18n_name)] <= missing_ratio1:\n",
    "            raw_285_dummy_columns.append(code_name)\n",
    "        print(f\"{(code_name, i18n_name)} => {raw_285_nonzeroratio[(code_name, i18n_name)]}\")\n",
    "print(raw_285_dummy_columns)"
   ]
  },
  {
   "cell_type": "code",
   "execution_count": 14,
   "metadata": {},
   "outputs": [
    {
     "name": "stdout",
     "output_type": "stream",
     "text": [
      "No.285 样本数据 修正 属性值个数 => 240\n"
     ]
    }
   ],
   "source": [
    "# 依据 拉依达准则 对 No.285 样本进行属性值数据修正\n",
    "raw_285_filter = raw_285.replace(0, np.NaN)\n",
    "raw_285_filter_describe = raw_285_filter.describe()\n",
    "fix_count = 0\n",
    "try:\n",
    "    for (code_name, i18n_name) in raw_285_filter.keys()[2:]:\n",
    "        norm_test = stats.kstest(raw_285_filter[(code_name, i18n_name)], 'norm', (raw_285_filter_describe.loc['mean', (code_name, i18n_name)], raw_285_filter_describe.loc['std', (code_name, i18n_name)]))\n",
    "        if norm_test.pvalue > 0.05:\n",
    "            temp_data = raw_285_filter[(code_name, i18n_name)][np.abs(raw_285_filter[(code_name, i18n_name)] - raw_285_filter_describe.loc['mean', (code_name, i18n_name)]) <= 3 * raw_285_filter_describe.loc['std', (code_name, i18n_name)]]\n",
    "            if sample_285[(code_name, i18n_name)] != round(temp_data.mean(), 7):\n",
    "                # print(f\"{'='*10} code_name: {(code_name, i18n_name)} {'='*10}\")\n",
    "                sample_285[(code_name, i18n_name)] = round(temp_data.mean(), 7)\n",
    "                # print(f\"样本数据 修正 => {sample_285[(code_name, i18n_name)]}\")\n",
    "                fix_count += 1\n",
    "                # print(f\"{'='*40}\")\n",
    "except RuntimeWarning:\n",
    "    pass\n",
    "print(f\"No.285 样本数据 修正 属性值个数 => {fix_count}\")"
   ]
  },
  {
   "cell_type": "code",
   "execution_count": 15,
   "metadata": {},
   "outputs": [
    {
     "name": "stdout",
     "output_type": "stream",
     "text": [
      "('S-ZORB.FT_1204.PV', 0) => 0.95\n",
      "('S-ZORB.FC_2432.DACA', 'D-106热氮气流量') => 0.6\n",
      "('S-ZORB.FT_2431.DACA', 0) => 0.85\n",
      "('S-ZORB.FC_2432.PIDA.SP', '3.0步骤FIC2432.SP') => 0.6\n",
      "('S-ZORB.FT_1204.DACA.PV', 'D-121含硫污水排量') => 0.95\n",
      "['S-ZORB.FT_1204.PV', 'S-ZORB.FC_2432.DACA', 'S-ZORB.FT_2431.DACA', 'S-ZORB.FC_2432.PIDA.SP', 'S-ZORB.FT_1204.DACA.PV']\n"
     ]
    }
   ],
   "source": [
    "# 统计 No.313 样本 中属性中属性值存在空值的属性\n",
    "raw_313 = raw_313.drop(raw_313[sample_313_dummy_columns], axis=1)\n",
    "raw_313_nonzeroratio = raw_313.astype(bool).sum(axis=0) / raw_313.shape[0]\n",
    "raw_313_dummy_columns = []\n",
    "raw_313_delete_columns = []\n",
    "for (code_name, i18n_name) in raw_313_nonzeroratio.keys():\n",
    "    if raw_313_nonzeroratio[(code_name, i18n_name)] != 1.0:\n",
    "        raw_313_dummy_columns.append(code_name)\n",
    "        if raw_313_nonzeroratio[(code_name, i18n_name)] <= missing_ratio1:\n",
    "            raw_313_delete_columns.append(code_name)\n",
    "        print(f\"{(code_name, i18n_name)} => {raw_313_nonzeroratio[(code_name, i18n_name)]}\")\n",
    "print(raw_313_dummy_columns)"
   ]
  },
  {
   "cell_type": "code",
   "execution_count": 16,
   "metadata": {},
   "outputs": [
    {
     "data": {
      "text/plain": [
       "<AxesSubplot:>"
      ]
     },
     "execution_count": 16,
     "metadata": {},
     "output_type": "execute_result"
    },
    {
     "data": {
      "image/png": "[encoded data removed]",
      "text/plain": [
       "<Figure size 1800x648 with 2 Axes>"
      ]
     },
     "metadata": {
      "needs_background": "light"
     },
     "output_type": "display_data"
    }
   ],
   "source": [
    "# 可视化呈现 No.313 样本 中属性中属性值存在空值的属性的分布\n",
    "msno.matrix(raw_313[raw_313_dummy_columns].replace(0, np.nan), figsize=(25, 9), fontsize=12, labels=True)"
   ]
  },
  {
   "cell_type": "code",
   "execution_count": 17,
   "metadata": {},
   "outputs": [
    {
     "data": {
      "text/html": [
       "<div>\n",
       "<style scoped>\n",
       "    .dataframe tbody tr th:only-of-type {\n",
       "        vertical-align: middle;\n",
       "    }\n",
       "\n",
       "    .dataframe tbody tr th {\n",
       "        vertical-align: top;\n",
       "    }\n",
       "\n",
       "    .dataframe thead tr th {\n",
       "        text-align: left;\n",
       "    }\n",
       "</style>\n",
       "<table border=\"1\" class=\"dataframe\">\n",
       "  <thead>\n",
       "    <tr>\n",
       "      <th></th>\n",
       "      <th>S-ZORB.FT_1204.PV</th>\n",
       "      <th>S-ZORB.FC_2432.DACA</th>\n",
       "      <th>S-ZORB.FT_2431.DACA</th>\n",
       "      <th>S-ZORB.FC_2432.PIDA.SP</th>\n",
       "      <th>S-ZORB.FT_1204.DACA.PV</th>\n",
       "    </tr>\n",
       "    <tr>\n",
       "      <th></th>\n",
       "      <th>0</th>\n",
       "      <th>D-106热氮气流量</th>\n",
       "      <th>0</th>\n",
       "      <th>3.0步骤FIC2432.SP</th>\n",
       "      <th>D-121含硫污水排量</th>\n",
       "    </tr>\n",
       "  </thead>\n",
       "  <tbody>\n",
       "    <tr>\n",
       "      <th>count</th>\n",
       "      <td>38.000000</td>\n",
       "      <td>24.000000</td>\n",
       "      <td>34.000000</td>\n",
       "      <td>24.000000</td>\n",
       "      <td>38.000000</td>\n",
       "    </tr>\n",
       "    <tr>\n",
       "      <th>mean</th>\n",
       "      <td>49.707433</td>\n",
       "      <td>55.025050</td>\n",
       "      <td>255.479771</td>\n",
       "      <td>55.977408</td>\n",
       "      <td>49.707433</td>\n",
       "    </tr>\n",
       "    <tr>\n",
       "      <th>std</th>\n",
       "      <td>8.341846</td>\n",
       "      <td>25.134146</td>\n",
       "      <td>234.464315</td>\n",
       "      <td>25.826184</td>\n",
       "      <td>8.341846</td>\n",
       "    </tr>\n",
       "    <tr>\n",
       "      <th>min</th>\n",
       "      <td>6.597014</td>\n",
       "      <td>0.488710</td>\n",
       "      <td>3.981225</td>\n",
       "      <td>0.177480</td>\n",
       "      <td>6.597014</td>\n",
       "    </tr>\n",
       "    <tr>\n",
       "      <th>25%</th>\n",
       "      <td>46.641427</td>\n",
       "      <td>38.959682</td>\n",
       "      <td>90.305070</td>\n",
       "      <td>39.000000</td>\n",
       "      <td>46.641427</td>\n",
       "    </tr>\n",
       "    <tr>\n",
       "      <th>50%</th>\n",
       "      <td>51.932390</td>\n",
       "      <td>68.763040</td>\n",
       "      <td>197.265750</td>\n",
       "      <td>69.000000</td>\n",
       "      <td>51.932390</td>\n",
       "    </tr>\n",
       "    <tr>\n",
       "      <th>75%</th>\n",
       "      <td>53.980428</td>\n",
       "      <td>74.201170</td>\n",
       "      <td>333.157850</td>\n",
       "      <td>79.000000</td>\n",
       "      <td>53.980428</td>\n",
       "    </tr>\n",
       "    <tr>\n",
       "      <th>max</th>\n",
       "      <td>57.424220</td>\n",
       "      <td>80.166200</td>\n",
       "      <td>937.010600</td>\n",
       "      <td>79.000000</td>\n",
       "      <td>57.424220</td>\n",
       "    </tr>\n",
       "  </tbody>\n",
       "</table>\n",
       "</div>"
      ],
      "text/plain": [
       "      S-ZORB.FT_1204.PV S-ZORB.FC_2432.DACA S-ZORB.FT_2431.DACA  \\\n",
       "                      0          D-106热氮气流量                   0   \n",
       "count         38.000000           24.000000           34.000000   \n",
       "mean          49.707433           55.025050          255.479771   \n",
       "std            8.341846           25.134146          234.464315   \n",
       "min            6.597014            0.488710            3.981225   \n",
       "25%           46.641427           38.959682           90.305070   \n",
       "50%           51.932390           68.763040          197.265750   \n",
       "75%           53.980428           74.201170          333.157850   \n",
       "max           57.424220           80.166200          937.010600   \n",
       "\n",
       "      S-ZORB.FC_2432.PIDA.SP S-ZORB.FT_1204.DACA.PV  \n",
       "             3.0步骤FIC2432.SP            D-121含硫污水排量  \n",
       "count              24.000000              38.000000  \n",
       "mean               55.977408              49.707433  \n",
       "std                25.826184               8.341846  \n",
       "min                 0.177480               6.597014  \n",
       "25%                39.000000              46.641427  \n",
       "50%                69.000000              51.932390  \n",
       "75%                79.000000              53.980428  \n",
       "max                79.000000              57.424220  "
      ]
     },
     "execution_count": 17,
     "metadata": {},
     "output_type": "execute_result"
    }
   ],
   "source": [
    "# 对 No.313 样本中 存在属性值缺失的 属性进行统计学描述\n",
    "dummy_raw_313 = raw_313[raw_313_dummy_columns].replace(0, np.NaN)\n",
    "dummy_raw_313.describe()"
   ]
  },
  {
   "cell_type": "code",
   "execution_count": 18,
   "metadata": {},
   "outputs": [
    {
     "name": "stdout",
     "output_type": "stream",
     "text": [
      "No.313 样本数据 修正 属性值个数 => 214\n"
     ]
    }
   ],
   "source": [
    "# 依据 拉依达准则 对 No.313 样本进行属性值数据修正\n",
    "raw_313_filter = raw_313.drop(raw_313[raw_313_delete_columns], axis=1).replace(0, np.NaN)\n",
    "raw_313_filter_describe = raw_313_filter.describe()\n",
    "fix_count = 0\n",
    "for (code_name, i18n_name) in raw_313_filter.keys()[2:]:\n",
    "    norm_test = stats.kstest(raw_313_filter[(code_name, i18n_name)], 'norm', (raw_313_filter_describe.loc['mean', (code_name, i18n_name)], raw_313_filter_describe.loc['std', (code_name, i18n_name)]))\n",
    "    if norm_test.pvalue > 0.05:\n",
    "        temp_data = raw_313_filter[(code_name, i18n_name)][np.abs(raw_313_filter[(code_name, i18n_name)] - raw_313_filter_describe.loc['mean', (code_name, i18n_name)]) <= 3 * raw_313_filter_describe.loc['std', (code_name, i18n_name)]]\n",
    "        if sample_313[(code_name, i18n_name)] != round(temp_data.mean(), 7):\n",
    "            # print(f\"{'='*10} code_name: {(code_name, i18n_name)} {'='*10}\")\n",
    "            sample_313[(code_name, i18n_name)] = round(temp_data.mean(), 7)\n",
    "            # print(f\"样本数据 修正 => {sample_313[(code_name, i18n_name)]}\")\n",
    "            fix_count += 1\n",
    "            # print(f\"{'='*40}\")\n",
    "print(f\"No.313 样本数据 修正 属性值个数 => {fix_count}\")"
   ]
  },
  {
   "cell_type": "code",
   "execution_count": 19,
   "metadata": {},
   "outputs": [
    {
     "name": "stdout",
     "output_type": "stream",
     "text": [
      "Stored 'sample_285' (Series)\n",
      "Stored 'sample_313' (Series)\n"
     ]
    }
   ],
   "source": [
    "%store sample_285\n",
    "%store sample_313"
   ]
  },
  {
   "cell_type": "code",
   "execution_count": null,
   "metadata": {},
   "outputs": [],
   "source": []
  }
 ],
 "metadata": {
  "kernelspec": {
   "display_name": "Python(chenhao)",
   "language": "python",
   "name": "venv"
  },
  "language_info": {
   "codemirror_mode": {
    "name": "ipython",
    "version": 3
   },
   "file_extension": ".py",
   "mimetype": "text/x-python",
   "name": "python",
   "nbconvert_exporter": "python",
   "pygments_lexer": "ipython3",
   "version": "3.8.5"
  },
  "widgets": {
   "application/vnd.jupyter.widget-state+json": {
    "state": {},
    "version_major": 2,
    "version_minor": 0
   }
  }
 },
 "nbformat": 4,
 "nbformat_minor": 4
}
